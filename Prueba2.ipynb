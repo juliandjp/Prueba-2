{
 "cells": [
  {
   "cell_type": "code",
   "execution_count": 1,
   "metadata": {},
   "outputs": [],
   "source": [
    "from PIL import Image\n",
    "import numpy as np\n",
    "import matplotlib.pyplot as plt \n",
    "from sklearn.neural_network import MLPClassifier\n",
    "from sklearn.model_selection import GridSearchCV\n",
    "from sklearn.model_selection import KFold\n",
    "from sklearn.preprocessing import MinMaxScaler"
   ]
  },
  {
   "cell_type": "code",
   "execution_count": 2,
   "metadata": {},
   "outputs": [],
   "source": [
    "#Cargar las imagenes.\n",
    "imagenes = []\n",
    "for i in range(1,4):\n",
    "    im = Image.open('imagen'+ str(i) +'.png').convert('L')\n",
    "    pic = np.array(im)\n",
    "    imagenes.append(pic)\n",
    "    im.close()"
   ]
  },
  {
   "cell_type": "code",
   "execution_count": 3,
   "metadata": {},
   "outputs": [
    {
     "name": "stdout",
     "output_type": "stream",
     "text": [
      "(171, 239)\n",
      "(174, 212)\n",
      "(176, 200)\n"
     ]
    }
   ],
   "source": [
    "#Necesito saber las dimensiones de las imagenes\n",
    "for i in imagenes:\n",
    "    print(i.shape)"
   ]
  },
  {
   "cell_type": "code",
   "execution_count": 4,
   "metadata": {},
   "outputs": [
    {
     "name": "stdout",
     "output_type": "stream",
     "text": [
      "(171, 200)\n",
      "(171, 200)\n",
      "(171, 200)\n"
     ]
    }
   ],
   "source": [
    "#Como tiene dimensiones diferentes, las corto para tener dimensiones iguales. Aun asi, quiero ver si no se daño la imagen.\n",
    "#Hago un plot\n",
    "listaImagenes = []\n",
    "for i in imagenes:\n",
    "    listaImagenes.append(i[0:171, 0:200])\n",
    "    print(i[0:171, 0:200].shape)"
   ]
  },
  {
   "cell_type": "code",
   "execution_count": 5,
   "metadata": {},
   "outputs": [
    {
     "data": {
      "image/png": "[encoded data removed]",
      "text/plain": [
       "<Figure size 432x288 with 3 Axes>"
      ]
     },
     "metadata": {
      "needs_background": "light"
     },
     "output_type": "display_data"
    }
   ],
   "source": [
    "# Las imagenes siguen igual. A pesar de que se cortaron algunos pixeles.\n",
    "plt.figure(1)\n",
    "numeroPlot = 131\n",
    "for imagen in listaImagenes:\n",
    "    plt.subplot(numeroPlot)\n",
    "    plt.imshow(imagen)\n",
    "    numeroPlot += 1\n",
    "plt.show()"
   ]
  },
  {
   "cell_type": "code",
   "execution_count": 6,
   "metadata": {},
   "outputs": [
    {
     "name": "stdout",
     "output_type": "stream",
     "text": [
      "Shape: (3, 171, 200)\n",
      "Reshape de X: (3, 34200)\n",
      "Shape de Y: (3,)\n"
     ]
    }
   ],
   "source": [
    "X = np.array(listaImagenes)\n",
    "print('Shape:', X.shape)\n",
    "X = X.reshape( len(X), -1 )\n",
    "print('Reshape de X:', X.shape)\n",
    "scaler = MinMaxScaler (feature_range= (-1,1))\n",
    "scaler.fit(X)\n",
    "X_paraEntrenar = scaler.transform(X)\n",
    "y = np.array([-1, 0, 1])\n",
    "print('Shape de Y:', y.shape)\n",
    "diccionario = {-1: 'Circulo', 0:'Rectangulo', 1: 'Triangulo'}"
   ]
  },
  {
   "cell_type": "code",
   "execution_count": 7,
   "metadata": {},
   "outputs": [
    {
     "name": "stdout",
     "output_type": "stream",
     "text": [
      "Capas:  (128, 64, 32, 16)\n",
      "[0 0 0]\n",
      "Capas:  (128, 64, 32)\n",
      "[1 1 1]\n",
      "Capas:  (128, 64)\n",
      "[0 0 0]\n",
      "Capas:  128\n",
      "[1 1 1]\n"
     ]
    }
   ],
   "source": [
    "hidden_layers = [(128, 64, 32, 16), (128, 64, 32), (128, 64), (128)]\n",
    "for capas in hidden_layers:\n",
    "    modelo = MLPClassifier(random_state = 999, activation = 'tanh', early_stopping = True, hidden_layer_sizes = capas)\n",
    "    modelo.fit(X_paraEntrenar,y)\n",
    "    print('Capas: ', capas)\n",
    "    print(modelo.predict(X_paraEntrenar))"
   ]
  },
  {
   "cell_type": "markdown",
   "metadata": {},
   "source": [
    "# IMPORTANTE: EL SET DE DATOS ES MUY PEQUEÑO PARA ENTRENAR UNA RED NEURONAL QUE PUEDA IDENTIFICAR ESOS PATRONES. NO HAY IMAGENES PARA VALIDAR EL MODELO, ENTONCES TOCA PROBAR CON LAS MISMAS DE ENTRENAMIENTO. AÚN ASÍ AL MODELO LE FALTA POR MEJORAR. SIN EMBARGO, LA UNICA MANERA ES TENER MAS IMAGENES."
   ]
  },
  {
   "cell_type": "code",
   "execution_count": null,
   "metadata": {},
   "outputs": [],
   "source": []
  }
 ],
 "metadata": {
  "kernelspec": {
   "display_name": "Python 3",
   "language": "python",
   "name": "python3"
  },
  "language_info": {
   "codemirror_mode": {
    "name": "ipython",
    "version": 3
   },
   "file_extension": ".py",
   "mimetype": "text/x-python",
   "name": "python",
   "nbconvert_exporter": "python",
   "pygments_lexer": "ipython3",
   "version": "3.7.4"
  }
 },
 "nbformat": 4,
 "nbformat_minor": 4
}
